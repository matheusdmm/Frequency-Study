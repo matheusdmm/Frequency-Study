{
  "nbformat": 4,
  "nbformat_minor": 0,
  "metadata": {
    "colab": {
      "name": "Frequency.ipynb",
      "provenance": [],
      "collapsed_sections": []
    },
    "kernelspec": {
      "name": "python3",
      "display_name": "Python 3"
    }
  },
  "cells": [
    {
      "cell_type": "markdown",
      "metadata": {
        "id": "XNCPpjbspWkz",
        "colab_type": "text"
      },
      "source": [
        "# **Estudo sobre frequencias**\n",
        "Um ensaio breve sobre as notas e suas respectivas frequencias, com introdução física e exemplos.\n",
        "\n",
        "Produzido e pensado por Matheus da Fonseca ao longo do segundo semestre de 2019 e implementado no primeiro semestre de 2020. Este ensaio surgiu como um questionamento sobre o porque das frequencias das notas e como elas se comportavam entre si dentro de determinada escala, do porque alguns intervalos serem dissonantes e também em como encontrar o valor referente as notas.\n",
        "\n",
        "Ao longo do projeto, irei apresentar e demonstrar algumas equações e pequenas histórias para inserir contexto e eliminar algumas dúvidas, mas ressalvo que a parte prática será deixada para o final.\n",
        "\n",
        "\n",
        "\n",
        "---\n",
        "\n",
        "\n",
        "\n",
        "##**Conteúdo abordado:**\n",
        "\n",
        "\n",
        "*   Historia básica e introdução\n",
        "*   Escalas\n",
        "*   Proporções\n",
        "*   Fórmula básica\n",
        "*   Plotando um gráfico com os dados\n",
        "*   Demonstração prática\n",
        "---"
      ]
    },
    {
      "cell_type": "markdown",
      "metadata": {
        "id": "jaKEBTYEqOI-",
        "colab_type": "text"
      },
      "source": [
        "### **História básica e introdução:**\n",
        "A unidade de medida Hertz (Hz) é uma unidade derivada do Sistema Internacional de medidas utilizada para medir frequencias, que é expressa em termos de ciclos por segundo (1/s), um dos principais usos é descrever ondas senoidais e o nome é uma homenagem ao físico alemão Heinrich Hertz.\n",
        "\n",
        "A nota A (Lá) 440Hz foi recomendado como padrão de afinação em 1834 por um Alemão chamado Johann Scheibler, que conseguiu desenvolver um mecanismo de 56 garfos oscilantes (chamado em alemão de Tonmesser) dentro de uma espécie de caixa interligada a um metrônomo que oscilava de acordo com a vibração respectiva dos garfos, que eram feitos de comprimentos diferentes para terem ressonancias diferentes, que iam de A 219Hz até 439,5Hz (quee foi arredondado para 440Hz) à 21º célcius. \n",
        "\n",
        "Para a época este dispositivo era muito preciso e demonstrava uma consistencia durante as afinações dos tubos dos órgãos e pianos da época, permitindo performances sempre consistentes. Após pouco tempo de uso, um congresso de físicos em Stuttgart acabou adotando a recomendação de Scheibler para ser a forma padrão de afinação, e em seguida diversos fabricantes de piano adotando a solução. Antes de Scheibler, não existia uma forma unificada de se afinar ou medir de forma coesa as afinações, e isto era um problema recorrente tanto para quem era músico de orquestra quanto para quem performava com outros músicos, visto que sempre tinham que afinar todos os instrumentos com base em algum instrumento pré afinado (e na maior parte dos casos, com a intonação problemática), tornando a tarefa mais complicada ainda. \n",
        "\n",
        "---\n"
      ]
    },
    {
      "cell_type": "markdown",
      "metadata": {
        "id": "imR09Dsp-Wcz",
        "colab_type": "text"
      },
      "source": [
        "### **Escalas**\n",
        "Para falarmos de como podemos encontrar as frequencias das notas, precisamos primeiro falar sobre as escalas em que as mesmas se encontram. Para simplificar e definirmos um padrão para este projeto, vou utilizar a escala de Dó maior (C Maj) que consiste de:\n",
        "\n",
        "\n",
        "\n",
        "> *Dó, Ré, Mi, Fá, Sol, Lá, Si, Dó*\n",
        "\n",
        "Ou podemos dizer também:\n",
        "\n",
        "> *C,  D,  E,  F,  G,  A,  B,  C*\n",
        "\n",
        "Agora você pode estar se perguntando \"*Certo, mas onde isto se enquadra no projeto?*\" , a resposta é simples. Primeiro precisamos definir um conjunto de notas que habitam o nosso instrumento, progressão ou música, por exemplo, e depois usamos isto como ponto de partida. \n",
        "\n",
        "Deixando isto claro, o próximo passo é entender o porque a nota A é definida como padrão para a afinação. Matemáticamente falando, ela é escolhida como nota padrão primeiro por: Estar entre os principais intervalos músicais e tammbém por ser o valor mais simples para se calcular, visto que 440 é multiplo de vários números e a cada oitava acima ou abaixo, o valor é facilmente previsto, e isto é um dos motivos inclusive, que tornam a afinação em A440 uma afinação temperada, onde o valor de cada intervalo é muito próximo um do outro, tornando todas as notas afinadas entre si independente da tonalidade tocada ou do acorde.\n",
        "\n",
        "Agora que sabemos um pouco mais sobre a teoria, vamos para um pouco de prática.\n",
        "\n",
        "---"
      ]
    },
    {
      "cell_type": "markdown",
      "metadata": {
        "id": "2tgqsbXKBZHb",
        "colab_type": "text"
      },
      "source": [
        "### **Proporções**\n",
        "\n",
        "Sabemos agora que Dó é a primeira nota de nossa escala, vamos entender como podemos encontrar as outras notas e suas referencias dentro do contexto.\n",
        "\n",
        "C = 1/8\n",
        "D = 2/8\n",
        "E = 3/8\n",
        "F = 4/8 \n",
        "G = 5/8\n",
        "A = 6/8\n",
        "B = 7/8\n",
        "C = 8/8\n",
        "\n",
        "As divisões fracionadas das notas são as mesmas dos seus respectivos graus dentro da escala, para entendermos isso devemos pensar da seguinte maneira:\n",
        "\n",
        "> *Temos uma corda de tonalidade C, a tonalidade C equivale ao comprimento total da corda. Para encontrarmos a próxima tonalidade, neste caso, D, devemos \"apertar\" a corda no comprimento de 2/8 de C. Para encontrarmos E, devemos apertar em 3/8 e assim sucessivamente.*\n",
        "---\n"
      ]
    },
    {
      "cell_type": "markdown",
      "metadata": {
        "id": "PRhi0wwpVhCz",
        "colab_type": "text"
      },
      "source": [
        "### **Fórmula básica**\n",
        "\n",
        "> ***ϝⁿ = ϝ0 * αⁿ***\n",
        "\n",
        "**ϝ0** é a frequencia de uma nota fiza, no nosso caso A440.\n",
        "\n",
        "**ⁿ** é o numero de semitons percorridos de F0 até a nota desejada (e para encontrarmos os valores de oitavas abaixo do intervalo desejado, utilizamos o **ⁿ** negativo).\n",
        "\n",
        "**ϝⁿ** é a frequencia da nota **n** semitons distante.\n",
        "\n",
        "**α** é equivalente a ¹²√2 ou 1.059463094."
      ]
    },
    {
      "cell_type": "markdown",
      "metadata": {
        "id": "twOmXCtDqFqv",
        "colab_type": "text"
      },
      "source": [
        "### *Exemplo 1:*###"
      ]
    },
    {
      "cell_type": "code",
      "metadata": {
        "id": "Tv8AobcgpBDT",
        "colab_type": "code",
        "outputId": "b7fd3b83-b13b-4473-ff62-894546c6939a",
        "colab": {
          "base_uri": "https://localhost:8080/",
          "height": 34
        }
      },
      "source": [
        "# Para econtrarmos a frequencia da nota E:\n",
        "# Sabemos que a nota E fica a 7 semitons acima de A que é nossa nota com frequencia conhecida\n",
        "# A, A#, B, C, C#, D, D#, E\n",
        "# 0  1   2  3  4   5  6   7\n",
        "# 440 ------------------- ? \n",
        "\n",
        "# ϝⁿ = ϝ0 * αⁿ\n",
        "# E⁻⁷ = 440(1.059463094)⁷\n",
        "\n",
        "f0 = 440\n",
        "a = 1.059463094\n",
        "n = 7\n",
        "\n",
        "E7 = 440 *pow(a, n)\n",
        "\n",
        "print(E7, 'Hz')"
      ],
      "execution_count": 0,
      "outputs": [
        {
          "output_type": "stream",
          "text": [
            "659.2551122607297 Hz\n"
          ],
          "name": "stdout"
        }
      ]
    },
    {
      "cell_type": "markdown",
      "metadata": {
        "id": "ENgsUBd-R5Hh",
        "colab_type": "text"
      },
      "source": [
        "### *Exemplo 2:*"
      ]
    },
    {
      "cell_type": "code",
      "metadata": {
        "id": "RAIbNvweMOJD",
        "colab_type": "code",
        "outputId": "816b895b-e400-4eb0-f854-8fa344139ad8",
        "colab": {
          "base_uri": "https://localhost:8080/",
          "height": 34
        }
      },
      "source": [
        "# Vamos encontrar a frequencia da nota E na oitava abaixo do A440:\n",
        "# Sabemos que a nota E fica a 5 semitons abaixo de A que é nossa nota com frequencia conhecida\n",
        "# E, F, F#, G, G#, A\n",
        "# 5, 4, 3,  2, 1,  0\n",
        "# ? ------------- 440\n",
        "\n",
        "# ϝⁿ = ϝ0 * αⁿ\n",
        "# E⁻⁵ = 440(1.059463094)⁻⁵\n",
        "\n",
        "f0 = 440\n",
        "a = 1.059463094\n",
        "n = -5\n",
        "\n",
        "E5 = 440 *pow(a, n)\n",
        "\n",
        "print(E5, 'Hz')"
      ],
      "execution_count": 0,
      "outputs": [
        {
          "output_type": "stream",
          "text": [
            "329.6275574718021 Hz\n"
          ],
          "name": "stdout"
        }
      ]
    },
    {
      "cell_type": "markdown",
      "metadata": {
        "id": "YtcLMrjyTnT-",
        "colab_type": "text"
      },
      "source": [
        "Podemos também calcular as frequencias usando as frequencias das notas que já descobrimos, porém não é recomendado devido aos valores não serem absolutos e não proporcionarem intervalos temperados caso alguem os use para afinar os instrumentos também.\n",
        "\n",
        "---"
      ]
    },
    {
      "cell_type": "markdown",
      "metadata": {
        "id": "SVWp7N4PV0m5",
        "colab_type": "text"
      },
      "source": [
        "### **Plotando um gráfico com os dados**\n",
        "\n",
        "Com os dados que acabamos de calcular, podemos agora plotar um gráfico de onda da frequencia desejada. Para isto, precisamos apenas de uma fórmula.\n",
        "\n",
        "> ***λ = r / c***\n",
        "\n",
        "**λ** é o comprimento da onda.\n",
        "\n",
        "**c** é a velocidade do som, cerca de *343 m/s* em temperatura de 20 graus.\n",
        "\n",
        "**r** é a frequência em Hz."
      ]
    },
    {
      "cell_type": "code",
      "metadata": {
        "id": "Z7e0kZb_Y2dF",
        "colab_type": "code",
        "outputId": "411fdc5f-a910-4e92-d4a4-670af74debf8",
        "colab": {
          "base_uri": "https://localhost:8080/",
          "height": 279
        }
      },
      "source": [
        "import matplotlib.pyplot as plt                   \n",
        "import numpy as np                               \n",
        "%matplotlib inline\n",
        "\n",
        "f = 343.00  # Frequencia em ciclos por segundo (Hertz)\n",
        "f_s = 50  # Sampling rate, no caso quantas medidas por segundo você quer fazer\n",
        "\n",
        "t = np.linspace(0, 10, 2 * f_s, endpoint=True\n",
        "              )\n",
        "x = np.sin(f * 2 * np.pi * t)\n",
        "\n",
        "fig, ax = plt.subplots()\n",
        "ax.plot(t, x)\n",
        "ax.set_xlabel('Time [s]')\n",
        "ax.set_ylabel('Signal amplitude');"
      ],
      "execution_count": 0,
      "outputs": [
        {
          "output_type": "display_data",
          "data": {
            "image/png": "[encoded data removed]",
            "text/plain": [
              "<Figure size 432x288 with 1 Axes>"
            ]
          },
          "metadata": {
            "tags": [],
            "needs_background": "light"
          }
        }
      ]
    },
    {
      "cell_type": "code",
      "metadata": {
        "id": "-tZT62GsfHpq",
        "colab_type": "code",
        "outputId": "1fbf337c-a1ea-4486-9e28-cd1a7c168d94",
        "colab": {
          "base_uri": "https://localhost:8080/",
          "height": 368
        }
      },
      "source": [
        "import altair as alt\n",
        "\n",
        "source = alt.sequence(start=0, stop=15, step=0.1, as_='x')\n",
        "\n",
        "alt.Chart(source).mark_line().transform_calculate(\n",
        "    sin='sin(datum.x)',\n",
        "    cos='cos(datum.x)'\n",
        ").transform_fold(\n",
        "    ['sin', 'cos']\n",
        ").encode(\n",
        "    x='x:Q',\n",
        "    y='value:Q',\n",
        "    color='key:N'\n",
        ")"
      ],
      "execution_count": 0,
      "outputs": [
        {
          "output_type": "execute_result",
          "data": {
            "text/plain": [
              "alt.Chart(...)"
            ],
            "text/html": [
              "\n",
              "<div id=\"altair-viz-2e293ea6ffd6432588888121ad3006f4\"></div>\n",
              "<script type=\"text/javascript\">\n",
              "  (function(spec, embedOpt){\n",
              "    let outputDiv = document.currentScript.previousElementSibling;\n",
              "    if (outputDiv.id !== \"altair-viz-2e293ea6ffd6432588888121ad3006f4\") {\n",
              "      outputDiv = document.getElementById(\"altair-viz-2e293ea6ffd6432588888121ad3006f4\");\n",
              "    }\n",
              "    const paths = {\n",
              "      \"vega\": \"https://cdn.jsdelivr.net/npm//vega@5?noext\",\n",
              "      \"vega-lib\": \"https://cdn.jsdelivr.net/npm//vega-lib?noext\",\n",
              "      \"vega-lite\": \"https://cdn.jsdelivr.net/npm//vega-lite@4.8.1?noext\",\n",
              "      \"vega-embed\": \"https://cdn.jsdelivr.net/npm//vega-embed@6?noext\",\n",
              "    };\n",
              "\n",
              "    function loadScript(lib) {\n",
              "      return new Promise(function(resolve, reject) {\n",
              "        var s = document.createElement('script');\n",
              "        s.src = paths[lib];\n",
              "        s.async = true;\n",
              "        s.onload = () => resolve(paths[lib]);\n",
              "        s.onerror = () => reject(`Error loading script: ${paths[lib]}`);\n",
              "        document.getElementsByTagName(\"head\")[0].appendChild(s);\n",
              "      });\n",
              "    }\n",
              "\n",
              "    function showError(err) {\n",
              "      outputDiv.innerHTML = `<div class=\"error\" style=\"color:red;\">${err}</div>`;\n",
              "      throw err;\n",
              "    }\n",
              "\n",
              "    function displayChart(vegaEmbed) {\n",
              "      vegaEmbed(outputDiv, spec, embedOpt)\n",
              "        .catch(err => showError(`Javascript Error: ${err.message}<br>This usually means there's a typo in your chart specification. See the javascript console for the full traceback.`));\n",
              "    }\n",
              "\n",
              "    if(typeof define === \"function\" && define.amd) {\n",
              "      requirejs.config({paths});\n",
              "      require([\"vega-embed\"], displayChart, err => showError(`Error loading script: ${err.message}`));\n",
              "    } else if (typeof vegaEmbed === \"function\") {\n",
              "      displayChart(vegaEmbed);\n",
              "    } else {\n",
              "      loadScript(\"vega\")\n",
              "        .then(() => loadScript(\"vega-lite\"))\n",
              "        .then(() => loadScript(\"vega-embed\"))\n",
              "        .catch(showError)\n",
              "        .then(() => displayChart(vegaEmbed));\n",
              "    }\n",
              "  })({\"config\": {\"view\": {\"continuousWidth\": 400, \"continuousHeight\": 300}}, \"data\": {\"sequence\": {\"start\": 0, \"stop\": 15, \"step\": 0.1, \"as\": \"x\"}}, \"mark\": \"line\", \"encoding\": {\"color\": {\"type\": \"nominal\", \"field\": \"key\"}, \"x\": {\"type\": \"quantitative\", \"field\": \"x\"}, \"y\": {\"type\": \"quantitative\", \"field\": \"value\"}}, \"transform\": [{\"calculate\": \"sin(datum.x)\", \"as\": \"sin\"}, {\"calculate\": \"cos(datum.x)\", \"as\": \"cos\"}, {\"fold\": [\"sin\", \"cos\"]}], \"$schema\": \"https://vega.github.io/schema/vega-lite/v4.8.1.json\"}, {\"mode\": \"vega-lite\"});\n",
              "</script>"
            ]
          },
          "metadata": {
            "tags": []
          },
          "execution_count": 14
        }
      ]
    }
  ]
}